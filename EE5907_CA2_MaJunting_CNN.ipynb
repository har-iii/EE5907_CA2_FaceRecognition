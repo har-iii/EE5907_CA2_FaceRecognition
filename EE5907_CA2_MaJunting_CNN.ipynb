{
 "cells": [
  {
   "cell_type": "code",
   "execution_count": 1,
   "metadata": {},
   "outputs": [
    {
     "name": "stderr",
     "output_type": "stream",
     "text": [
      "Using TensorFlow backend.\n"
     ]
    }
   ],
   "source": [
    "from PIL import Image\n",
    "import glob\n",
    "import numpy as np\n",
    "from sklearn.model_selection import train_test_split\n",
    "from sklearn import preprocessing\n",
    "import keras\n",
    "from keras.utils import to_categorical\n",
    "from keras.models import Sequential\n",
    "from keras.layers import Conv2D, MaxPool2D, Dense, Activation, Flatten"
   ]
  },
  {
   "cell_type": "code",
   "execution_count": 2,
   "metadata": {},
   "outputs": [],
   "source": [
    "img_dir_list = ['PIE/1/*.jpg', 'PIE/4/*.jpg', 'PIE/5/*.jpg', \\\n",
    "               'PIE/19/*.jpg', 'PIE/21/*.jpg', 'PIE/23/*.jpg', \\\n",
    "               'PIE/25/*.jpg', 'PIE/29/*.jpg', 'PIE/33/*.jpg', \\\n",
    "               'PIE/39/*.jpg', 'PIE/40/*.jpg', 'PIE/44/*.jpg', \\\n",
    "               'PIE/45/*.jpg', 'PIE/46/*.jpg', 'PIE/48/*.jpg', \\\n",
    "               'PIE/52/*.jpg', 'PIE/57/*.jpg', 'PIE/58/*.jpg', \\\n",
    "               'PIE/59/*.jpg', 'PIE/67/*.jpg']\n",
    "image_list = []\n",
    "image_own = []\n",
    "train_list = []\n",
    "train_own = []\n",
    "test_list = []\n",
    "test_own = []\n",
    "image_label = []\n",
    "own_label = [20] * 10\n",
    "\n",
    "for i in range (0, 20):\n",
    "    for filename in glob.glob(img_dir_list[i]):\n",
    "        im = Image.open(filename)\n",
    "        arr = np.array(im).flatten()\n",
    "        image_list.append(arr)\n",
    "        image_label.append(i)\n",
    "for filename in glob.glob('own_image/*.jpg'):\n",
    "    im = Image.open(filename)\n",
    "    arr = np.array(im).flatten()\n",
    "    image_own.append(arr)\n",
    "    \n",
    "image_list = np.asarray(image_list)\n",
    "image_own = np.asarray(image_own)\n",
    "image_label = np.asarray(image_label)\n",
    "own_label = np.asarray(own_label)\n",
    "\n",
    "train_list, test_list, train_label, test_label = train_test_split(image_list, image_label, test_size = 0.3)\n",
    "train_list = np.asarray(train_list)\n",
    "test_list = np.asarray(test_list)\n",
    "train_label = np.asarray(train_label)\n",
    "test_label = np.asarray(test_label)\n",
    "\n",
    "train_own, test_own, train_own_label, test_own_label = train_test_split(image_own, own_label, test_size = 0.3)\n",
    "train_own = np.asarray(train_own)\n",
    "test_own = np.asarray(test_own)\n",
    "train_own_label = np.asarray(train_own_label)\n",
    "test_own_label = np.asarray(test_own_label)\n",
    "\n",
    "random_indices = np.arange(0, train_list.shape[0])\n",
    "np.random.shuffle(random_indices)\n",
    "train_sample = train_list[random_indices[:500]]\n",
    "train_sample_label = train_label[random_indices[:500]]\n",
    "# print(train_sample)\n",
    "train_sample = np.concatenate((train_sample, train_own))\n",
    "train_sample_label = np.concatenate((train_sample_label, train_own_label))\n",
    "test_list = np.concatenate((test_list, test_own))\n",
    "test_label = np.concatenate((test_label, test_own_label))\n",
    "\n",
    "train_sample = np.asarray(train_sample)\n",
    "test_list = np.asarray(test_list)\n",
    "\n",
    "sc = preprocessing.StandardScaler()\n",
    "train_sample_prep = sc.fit_transform(train_sample)\n",
    "test_list_prep = sc.transform(test_list)\n",
    "train_list_prep = sc.fit_transform(train_list)\n",
    "\n",
    "train_sample = train_sample_prep.reshape(train_sample_prep.shape[0], 32, 32, 1)\n",
    "test_list = test_list_prep.reshape(test_list_prep.shape[0], 32, 32, 1)\n",
    "train_list = train_list_prep.reshape(train_list_prep.shape[0], 32, 32, 1)"
   ]
  },
  {
   "cell_type": "code",
   "execution_count": 3,
   "metadata": {},
   "outputs": [
    {
     "name": "stdout",
     "output_type": "stream",
     "text": [
      "(32, 32, 1)\n"
     ]
    }
   ],
   "source": [
    "print(train_sample[0].shape)"
   ]
  },
  {
   "cell_type": "code",
   "execution_count": 4,
   "metadata": {},
   "outputs": [],
   "source": [
    "test_label = to_categorical(test_label, num_classes = 21)\n",
    "train_sample_label = to_categorical(train_sample_label, num_classes = 21)\n",
    "train_label = to_categorical(train_label, num_classes = 21)"
   ]
  },
  {
   "cell_type": "code",
   "execution_count": 5,
   "metadata": {},
   "outputs": [
    {
     "name": "stdout",
     "output_type": "stream",
     "text": [
      "Model: \"sequential_1\"\n",
      "_________________________________________________________________\n",
      "Layer (type)                 Output Shape              Param #   \n",
      "=================================================================\n",
      "conv2d_1 (Conv2D)            (None, 32, 32, 20)        520       \n",
      "_________________________________________________________________\n",
      "max_pooling2d_1 (MaxPooling2 (None, 16, 16, 20)        0         \n",
      "_________________________________________________________________\n",
      "conv2d_2 (Conv2D)            (None, 16, 16, 50)        25050     \n",
      "_________________________________________________________________\n",
      "max_pooling2d_2 (MaxPooling2 (None, 8, 8, 50)          0         \n",
      "_________________________________________________________________\n",
      "flatten_1 (Flatten)          (None, 3200)              0         \n",
      "_________________________________________________________________\n",
      "dense_1 (Dense)              (None, 500)               1600500   \n",
      "_________________________________________________________________\n",
      "activation_1 (Activation)    (None, 500)               0         \n",
      "_________________________________________________________________\n",
      "dense_2 (Dense)              (None, 21)                10521     \n",
      "_________________________________________________________________\n",
      "activation_2 (Activation)    (None, 21)                0         \n",
      "=================================================================\n",
      "Total params: 1,636,591\n",
      "Trainable params: 1,636,591\n",
      "Non-trainable params: 0\n",
      "_________________________________________________________________\n",
      "None\n"
     ]
    }
   ],
   "source": [
    "model = Sequential()\n",
    "\n",
    "model.add(Conv2D(filters=20, kernel_size=5, strides=1, padding=\"same\", input_shape=(32, 32, 1)))\n",
    "model.add(MaxPool2D(pool_size=2, strides=2))\n",
    "\n",
    "model.add(Conv2D(filters=50, kernel_size=5, strides=1, padding='same'))\n",
    "model.add(MaxPool2D(pool_size=2, strides=2))\n",
    "\n",
    "model.add(Flatten())\n",
    "model.add(Dense(500))\n",
    "model.add(Activation('relu'))\n",
    "\n",
    "model.add(Dense(21))\n",
    "model.add(Activation('softmax'))\n",
    "adam = keras.optimizers.Adam(lr=1e-4)\n",
    "model.compile(optimizer=adam, loss='categorical_crossentropy', metrics=['accuracy'])\n",
    "\n",
    "print(model.summary())"
   ]
  },
  {
   "cell_type": "code",
   "execution_count": 6,
   "metadata": {},
   "outputs": [
    {
     "name": "stdout",
     "output_type": "stream",
     "text": [
      "Train on 507 samples, validate on 1023 samples\n",
      "Epoch 1/20\n",
      " - 1s - loss: 2.9529 - accuracy: 0.1262 - val_loss: 2.8453 - val_accuracy: 0.1779\n",
      "Epoch 2/20\n",
      " - 1s - loss: 2.6057 - accuracy: 0.2899 - val_loss: 2.6618 - val_accuracy: 0.2434\n",
      "Epoch 3/20\n",
      " - 1s - loss: 2.2918 - accuracy: 0.4280 - val_loss: 2.3990 - val_accuracy: 0.3773\n",
      "Epoch 4/20\n",
      " - 1s - loss: 1.9403 - accuracy: 0.6036 - val_loss: 2.0568 - val_accuracy: 0.5357\n",
      "Epoch 5/20\n",
      " - 1s - loss: 1.5354 - accuracy: 0.7337 - val_loss: 1.6927 - val_accuracy: 0.6246\n",
      "Epoch 6/20\n",
      " - 1s - loss: 1.1556 - accuracy: 0.8185 - val_loss: 1.3558 - val_accuracy: 0.6970\n",
      "Epoch 7/20\n",
      " - 1s - loss: 0.8656 - accuracy: 0.8698 - val_loss: 1.0705 - val_accuracy: 0.7625\n",
      "Epoch 8/20\n",
      " - 1s - loss: 0.6451 - accuracy: 0.8994 - val_loss: 0.9018 - val_accuracy: 0.7801\n",
      "Epoch 9/20\n",
      " - 1s - loss: 0.4801 - accuracy: 0.9231 - val_loss: 0.7473 - val_accuracy: 0.8270\n",
      "Epoch 10/20\n",
      " - 1s - loss: 0.3831 - accuracy: 0.9487 - val_loss: 0.6500 - val_accuracy: 0.8514\n",
      "Epoch 11/20\n",
      " - 1s - loss: 0.2848 - accuracy: 0.9566 - val_loss: 0.5777 - val_accuracy: 0.8641\n",
      "Epoch 12/20\n",
      " - 1s - loss: 0.2357 - accuracy: 0.9803 - val_loss: 0.5428 - val_accuracy: 0.8592\n",
      "Epoch 13/20\n",
      " - 1s - loss: 0.1906 - accuracy: 0.9842 - val_loss: 0.4809 - val_accuracy: 0.8788\n",
      "Epoch 14/20\n",
      " - 1s - loss: 0.1652 - accuracy: 0.9763 - val_loss: 0.4633 - val_accuracy: 0.8807\n",
      "Epoch 15/20\n",
      " - 1s - loss: 0.1345 - accuracy: 0.9882 - val_loss: 0.3993 - val_accuracy: 0.8983\n",
      "Epoch 16/20\n",
      " - 1s - loss: 0.1062 - accuracy: 0.9901 - val_loss: 0.4132 - val_accuracy: 0.8935\n",
      "Epoch 17/20\n",
      " - 1s - loss: 0.0838 - accuracy: 0.9941 - val_loss: 0.3732 - val_accuracy: 0.8974\n",
      "Epoch 18/20\n",
      " - 1s - loss: 0.0695 - accuracy: 1.0000 - val_loss: 0.3608 - val_accuracy: 0.8954\n",
      "Epoch 19/20\n",
      " - 1s - loss: 0.0577 - accuracy: 0.9980 - val_loss: 0.3474 - val_accuracy: 0.9042\n",
      "Epoch 20/20\n",
      " - 1s - loss: 0.0495 - accuracy: 1.0000 - val_loss: 0.3420 - val_accuracy: 0.8983\n"
     ]
    },
    {
     "data": {
      "text/plain": [
       "<keras.callbacks.callbacks.History at 0x2138c3660f0>"
      ]
     },
     "execution_count": 6,
     "metadata": {},
     "output_type": "execute_result"
    }
   ],
   "source": [
    "model.fit(train_sample, train_sample_label, epochs=20, batch_size=32, validation_data=(test_list, test_label),\n",
    "              shuffle=True, verbose=2, )"
   ]
  },
  {
   "cell_type": "code",
   "execution_count": 7,
   "metadata": {},
   "outputs": [
    {
     "name": "stdout",
     "output_type": "stream",
     "text": [
      "100.0 0.0389726777327719\n",
      "89.83381986618042 0.3420039644047895\n",
      "91.26050472259521 0.3137206617774082\n"
     ]
    }
   ],
   "source": [
    "loss, accuracy = model.evaluate(train_sample, train_sample_label, verbose = 0)\n",
    "print(accuracy * 100, loss)\n",
    "loss,  accuracy = model.evaluate(test_list, test_label, verbose = 0)\n",
    "print(accuracy* 100, loss)\n",
    "loss,  accuracy = model.evaluate(train_list, train_label, verbose = 0)\n",
    "print(accuracy* 100, loss)"
   ]
  }
 ],
 "metadata": {
  "kernelspec": {
   "display_name": "Python 3",
   "language": "python",
   "name": "python3"
  },
  "language_info": {
   "codemirror_mode": {
    "name": "ipython",
    "version": 3
   },
   "file_extension": ".py",
   "mimetype": "text/x-python",
   "name": "python",
   "nbconvert_exporter": "python",
   "pygments_lexer": "ipython3",
   "version": "3.7.3"
  }
 },
 "nbformat": 4,
 "nbformat_minor": 2
}
