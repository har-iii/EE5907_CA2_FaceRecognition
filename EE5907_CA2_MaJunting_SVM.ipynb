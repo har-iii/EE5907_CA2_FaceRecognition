{
 "cells": [
  {
   "cell_type": "markdown",
   "metadata": {},
   "source": [
    "## SVM Classification"
   ]
  },
  {
   "cell_type": "code",
   "execution_count": 1,
   "metadata": {},
   "outputs": [],
   "source": [
    "from PIL import Image\n",
    "import glob\n",
    "import numpy as np\n",
    "from sklearn.model_selection import train_test_split\n",
    "import matplotlib.pyplot as plt\n",
    "from mpl_toolkits.mplot3d import Axes3D\n",
    "import scipy.spatial.distance as distance\n",
    "from sklearn import preprocessing\n",
    "from sklearn.svm import LinearSVC"
   ]
  },
  {
   "cell_type": "markdown",
   "metadata": {},
   "source": [
    "Load image files from 'PIE' folder and 'own_image' folder.\n",
    "\n",
    "The 20 subjects out of the entire data set are selected using a random number generator to ensure randomness and prevent any bias.\n",
    "\n",
    "The images are splited into training and test sets. \n",
    "\n",
    "Since sampling is not mentioned in the instructions provided, the entire training set is used to train the model."
   ]
  },
  {
   "cell_type": "code",
   "execution_count": 2,
   "metadata": {},
   "outputs": [],
   "source": [
    "img_dir_list = ['PIE/1/*.jpg', 'PIE/4/*.jpg', 'PIE/5/*.jpg', \\\n",
    "               'PIE/19/*.jpg', 'PIE/21/*.jpg', 'PIE/23/*.jpg', \\\n",
    "               'PIE/25/*.jpg', 'PIE/29/*.jpg', 'PIE/33/*.jpg', \\\n",
    "               'PIE/39/*.jpg', 'PIE/40/*.jpg', 'PIE/44/*.jpg', \\\n",
    "               'PIE/45/*.jpg', 'PIE/46/*.jpg', 'PIE/48/*.jpg', \\\n",
    "               'PIE/52/*.jpg', 'PIE/57/*.jpg', 'PIE/58/*.jpg', \\\n",
    "               'PIE/59/*.jpg', 'PIE/67/*.jpg']\n",
    "image_list = []\n",
    "image_own = []\n",
    "train_list = []\n",
    "train_own = []\n",
    "test_list = []\n",
    "test_own = []\n",
    "image_label = []\n",
    "own_label = [20] * 10\n",
    "\n",
    "for i in range (0, 20):\n",
    "    for filename in glob.glob(img_dir_list[i]):\n",
    "        im = Image.open(filename)\n",
    "        arr = np.array(im).flatten()\n",
    "        image_list.append(arr)\n",
    "        image_label.append(i)\n",
    "for filename in glob.glob('own_image/*.jpg'):\n",
    "    im = Image.open(filename)\n",
    "    arr = np.array(im).flatten()\n",
    "    image_own.append(arr)\n",
    "    \n",
    "image_list = np.asarray(image_list)\n",
    "image_own = np.asarray(image_own)\n",
    "image_label = np.asarray(image_label)\n",
    "own_label = np.asarray(own_label)\n",
    "\n",
    "train_list, test_list, train_label, test_label = train_test_split(image_list, image_label, test_size = 0.3)\n",
    "train_list = np.asarray(train_list)\n",
    "test_list = np.asarray(test_list)\n",
    "train_label = np.asarray(train_label)\n",
    "test_label = np.asarray(test_label)\n",
    "\n",
    "train_own, test_own, train_own_label, test_own_label = train_test_split(image_own, own_label, test_size = 0.3)\n",
    "train_own = np.asarray(train_own)\n",
    "test_own = np.asarray(test_own)\n",
    "train_own_label = np.asarray(train_own_label)\n",
    "test_own_label = np.asarray(test_own_label)\n",
    "\n",
    "# random_indices = np.arange(0, train_list.shape[0])\n",
    "# np.random.shuffle(random_indices)\n",
    "# train_sample = train_list[random_indices[:500]]\n",
    "# train_sample_label = train_label[random_indices[:500]]\n",
    "\n",
    "# train_sample = np.concatenate((train_sample, train_own))\n",
    "# train_sample_label = np.concatenate((train_sample_label, train_own_label))\n",
    "test_list = np.concatenate((test_list, test_own))\n",
    "test_label = np.concatenate((test_label, test_own_label))\n",
    "train_list = np.concatenate((train_list, train_own))\n",
    "train_label = np.concatenate((train_label, train_own_label))\n",
    "# print(train_sample)\n",
    "# print(train_own)"
   ]
  },
  {
   "cell_type": "markdown",
   "metadata": {},
   "source": [
    "Preprocess the training and test images using StandardScaler in sklearn package"
   ]
  },
  {
   "cell_type": "code",
   "execution_count": 3,
   "metadata": {},
   "outputs": [],
   "source": [
    "sc = preprocessing.StandardScaler()\n",
    "# train_sample_prep = sc.fit_transform(train_sample)\n",
    "train_list_prep = sc.fit_transform(train_list)\n",
    "test_list_prep = sc.transform(test_list)"
   ]
  },
  {
   "cell_type": "markdown",
   "metadata": {},
   "source": [
    "Calculate training image mean"
   ]
  },
  {
   "cell_type": "code",
   "execution_count": 4,
   "metadata": {},
   "outputs": [],
   "source": [
    "train_image_mean = (np.mean(train_list_prep, axis = 0)).astype('float')\n",
    "# test_image_mean = (np.mean(test_list_prep, axis = 0)).astype('float')"
   ]
  },
  {
   "cell_type": "markdown",
   "metadata": {},
   "source": [
    "#### Implementation of PCA\n",
    "\n",
    "Compute the covariance of the difference between each image and training image mean\n",
    "\n",
    "Use numpy package to compute eigenvalue and eigenvector. Sort the eigenvalues and eigenvectors in descending order"
   ]
  },
  {
   "cell_type": "code",
   "execution_count": 5,
   "metadata": {},
   "outputs": [],
   "source": [
    "def pca (image_list):\n",
    "    image_mean = train_image_mean\n",
    "    image_diff = image_list - image_mean\n",
    "    image_diff = np.asarray(image_diff)\n",
    "    covariance = np.cov(image_diff.T)\n",
    "    \n",
    "    eigenvalue, eigenvector = np.linalg.eig(covariance)\n",
    "    idx = eigenvalue.argsort()[::-1]\n",
    "    eigenvalue = np.real(eigenvalue[idx])\n",
    "    eigenvector = np.real(eigenvector[:, idx])\n",
    "    eigenvalue = np.asarray(eigenvalue)\n",
    "    eigenvector = np.asarray(eigenvector)\n",
    "    \n",
    "    return eigenvalue, eigenvector"
   ]
  },
  {
   "cell_type": "markdown",
   "metadata": {},
   "source": [
    "Construct a list of eigen pairs based on eigenvalues and eigenvectors\n",
    "\n",
    "#### Reduction of Dimensionality \n",
    "\n",
    "Keeping first n eigen pairs from the list of eigen pairs. \n",
    "\n",
    "The result is the dot product of the difference between the input image list and training image mean."
   ]
  },
  {
   "cell_type": "code",
   "execution_count": 6,
   "metadata": {},
   "outputs": [],
   "source": [
    "def get_eigen_pair(eigenvalue, eigenvector):\n",
    "    eigen_pairs = [(eigenvalue[i], eigenvector[:,i]) for i in range(len(eigenvalue))]\n",
    "    eigen_pairs.sort(key=lambda k: k[0], reverse = True)\n",
    "    return eigen_pairs\n",
    "\n",
    "def reduce_dim(image_list, image_mean, eigenvalue, eigenvector, dim):\n",
    "    eigenpair = get_eigen_pair(eigenvalue, eigenvector)\n",
    "    w = np.hstack((eigenpair[0][1][:, np.newaxis], eigenpair[1][1][:, np.newaxis]))\n",
    "    if (dim > 2):\n",
    "        for i in range (2, dim):\n",
    "            w = np.hstack((w, eigenpair[i][1][:, np.newaxis]))\n",
    "    reduce_dim_result = (image_list - image_mean).dot(w)\n",
    "    return reduce_dim_result"
   ]
  },
  {
   "cell_type": "markdown",
   "metadata": {},
   "source": [
    "Compute eigenvalue and eigenvector of training data"
   ]
  },
  {
   "cell_type": "code",
   "execution_count": 7,
   "metadata": {},
   "outputs": [],
   "source": [
    "eigenvalue_train, eigenvector_train = pca(train_list_prep)"
   ]
  },
  {
   "cell_type": "markdown",
   "metadata": {},
   "source": [
    "Use raw face images to train linear SVM.\n",
    "\n",
    "Output Accuracy for different penalty parameter"
   ]
  },
  {
   "cell_type": "code",
   "execution_count": 8,
   "metadata": {},
   "outputs": [
    {
     "name": "stdout",
     "output_type": "stream",
     "text": [
      "Raw face images used\n",
      "training accuracy for penalty param = 0.01: 100.0%\n",
      "test accuracy for penalty param = 0.01: 98.24046920821115%\n"
     ]
    },
    {
     "name": "stderr",
     "output_type": "stream",
     "text": [
      "D:\\Anaconda\\lib\\site-packages\\sklearn\\svm\\base.py:929: ConvergenceWarning: Liblinear failed to converge, increase the number of iterations.\n",
      "  \"the number of iterations.\", ConvergenceWarning)\n"
     ]
    },
    {
     "name": "stdout",
     "output_type": "stream",
     "text": [
      "training accuracy for penalty param = 0.1: 100.0%\n",
      "test accuracy for penalty param = 0.1: 98.53372434017595%\n",
      "training accuracy for penalty param = 1: 100.0%\n",
      "test accuracy for penalty param = 1: 98.63147605083088%\n"
     ]
    },
    {
     "name": "stderr",
     "output_type": "stream",
     "text": [
      "D:\\Anaconda\\lib\\site-packages\\sklearn\\svm\\base.py:929: ConvergenceWarning: Liblinear failed to converge, increase the number of iterations.\n",
      "  \"the number of iterations.\", ConvergenceWarning)\n"
     ]
    }
   ],
   "source": [
    "print(\"Raw face images used\")\n",
    "for penalty_param in [0.01, 0.1, 1]:\n",
    "    model = LinearSVC(C = penalty_param)\n",
    "    model.fit(train_list_prep, train_label)\n",
    "    print(\"training accuracy for penalty param = \" + str(penalty_param) + \": \" + str(100 * model.score(train_list_prep, train_label)) + \"%\")\n",
    "    print(\"test accuracy for penalty param = \" + str(penalty_param) + \": \" + str(100 * model.score(test_list_prep, test_label)) + \"%\")"
   ]
  },
  {
   "cell_type": "markdown",
   "metadata": {},
   "source": [
    "Use images with dimensionality equals to 80 to train SVM\n",
    "\n",
    "Output Accuracy for different penalty parameter"
   ]
  },
  {
   "cell_type": "code",
   "execution_count": 9,
   "metadata": {},
   "outputs": [
    {
     "name": "stdout",
     "output_type": "stream",
     "text": [
      "Reduce dimensionality to 80\n",
      "training accuracy for penalty param = 0.01: 98.11478843736909%\n",
      "test accuracy for penalty param = 0.01: 96.57869012707722%\n"
     ]
    },
    {
     "name": "stderr",
     "output_type": "stream",
     "text": [
      "D:\\Anaconda\\lib\\site-packages\\sklearn\\svm\\base.py:929: ConvergenceWarning: Liblinear failed to converge, increase the number of iterations.\n",
      "  \"the number of iterations.\", ConvergenceWarning)\n"
     ]
    },
    {
     "name": "stdout",
     "output_type": "stream",
     "text": [
      "training accuracy for penalty param = 0.1: 99.66485127775451%\n",
      "test accuracy for penalty param = 0.1: 97.5562072336266%\n",
      "training accuracy for penalty param = 1: 99.95810640971932%\n",
      "test accuracy for penalty param = 1: 97.0674486803519%\n"
     ]
    },
    {
     "name": "stderr",
     "output_type": "stream",
     "text": [
      "D:\\Anaconda\\lib\\site-packages\\sklearn\\svm\\base.py:929: ConvergenceWarning: Liblinear failed to converge, increase the number of iterations.\n",
      "  \"the number of iterations.\", ConvergenceWarning)\n"
     ]
    }
   ],
   "source": [
    "test_80_dim = reduce_dim(test_list_prep, train_image_mean, eigenvalue_train, eigenvector_train, 80)\n",
    "train_80_dim = reduce_dim(train_list_prep, train_image_mean, eigenvalue_train, eigenvector_train, 80)\n",
    "\n",
    "print(\"Reduce dimensionality to 80\")\n",
    "for penalty_param in [0.01, 0.1, 1]:\n",
    "    model = LinearSVC(C = penalty_param)\n",
    "    model.fit(train_80_dim, train_label)\n",
    "    print(\"training accuracy for penalty param = \" + str(penalty_param) + \": \" + str(100 * model.score(train_80_dim, train_label)) + \"%\")\n",
    "    print(\"test accuracy for penalty param = \" + str(penalty_param) + \": \" + str(100 * model.score(test_80_dim, test_label)) + \"%\")"
   ]
  },
  {
   "cell_type": "markdown",
   "metadata": {},
   "source": [
    "Use images with dimensionality equals to 200 to train SVM\n",
    "\n",
    "Output Accuracy for different penalty parameter"
   ]
  },
  {
   "cell_type": "code",
   "execution_count": 10,
   "metadata": {},
   "outputs": [
    {
     "name": "stdout",
     "output_type": "stream",
     "text": [
      "Reduce dimensionality to 200\n",
      "training accuracy for penalty param = 0.01: 99.66485127775451%\n",
      "test accuracy for penalty param = 0.01: 98.1427174975562%\n"
     ]
    },
    {
     "name": "stderr",
     "output_type": "stream",
     "text": [
      "D:\\Anaconda\\lib\\site-packages\\sklearn\\svm\\base.py:929: ConvergenceWarning: Liblinear failed to converge, increase the number of iterations.\n",
      "  \"the number of iterations.\", ConvergenceWarning)\n"
     ]
    },
    {
     "name": "stdout",
     "output_type": "stream",
     "text": [
      "training accuracy for penalty param = 0.1: 100.0%\n",
      "test accuracy for penalty param = 0.1: 98.72922776148583%\n",
      "training accuracy for penalty param = 1: 100.0%\n",
      "test accuracy for penalty param = 1: 98.63147605083088%\n"
     ]
    },
    {
     "name": "stderr",
     "output_type": "stream",
     "text": [
      "D:\\Anaconda\\lib\\site-packages\\sklearn\\svm\\base.py:929: ConvergenceWarning: Liblinear failed to converge, increase the number of iterations.\n",
      "  \"the number of iterations.\", ConvergenceWarning)\n"
     ]
    }
   ],
   "source": [
    "test_200_dim = reduce_dim(test_list_prep, train_image_mean, eigenvalue_train, eigenvector_train, 200)\n",
    "train_200_dim = reduce_dim(train_list_prep, train_image_mean, eigenvalue_train, eigenvector_train, 200)\n",
    "\n",
    "print(\"Reduce dimensionality to 200\")\n",
    "for penalty_param in [0.01, 0.1, 1]:\n",
    "    model = LinearSVC(C = penalty_param)\n",
    "    model.fit(train_200_dim, train_label)\n",
    "    print(\"training accuracy for penalty param = \" + str(penalty_param) + \": \" + str(100 * model.score(train_200_dim, train_label)) + \"%\")\n",
    "    print(\"test accuracy for penalty param = \" + str(penalty_param) + \": \" + str(100 * model.score(test_200_dim, test_label)) + \"%\")"
   ]
  }
 ],
 "metadata": {
  "kernelspec": {
   "display_name": "Python 3",
   "language": "python",
   "name": "python3"
  },
  "language_info": {
   "codemirror_mode": {
    "name": "ipython",
    "version": 3
   },
   "file_extension": ".py",
   "mimetype": "text/x-python",
   "name": "python",
   "nbconvert_exporter": "python",
   "pygments_lexer": "ipython3",
   "version": "3.7.3"
  }
 },
 "nbformat": 4,
 "nbformat_minor": 2
}
