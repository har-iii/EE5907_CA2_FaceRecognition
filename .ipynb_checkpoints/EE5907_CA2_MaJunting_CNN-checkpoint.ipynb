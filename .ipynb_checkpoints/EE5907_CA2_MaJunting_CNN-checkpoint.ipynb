{
 "cells": [
  {
   "cell_type": "code",
   "execution_count": 1,
   "metadata": {},
   "outputs": [
    {
     "name": "stderr",
     "output_type": "stream",
     "text": [
      "Using TensorFlow backend.\n"
     ]
    }
   ],
   "source": [
    "from PIL import Image\n",
    "import glob\n",
    "import numpy as np\n",
    "from sklearn.model_selection import train_test_split\n",
    "import keras\n",
    "from keras.utils import to_categorical\n",
    "from keras.models import Sequential\n",
    "from keras.layers import Conv2D, MaxPool2D, Dense, Activation, Flatten"
   ]
  },
  {
   "cell_type": "code",
   "execution_count": 2,
   "metadata": {},
   "outputs": [],
   "source": [
    "img_dir_list = ['PIE/1/*.jpg', 'PIE/4/*.jpg', 'PIE/5/*.jpg', \\\n",
    "               'PIE/19/*.jpg', 'PIE/21/*.jpg', 'PIE/23/*.jpg', \\\n",
    "               'PIE/25/*.jpg', 'PIE/29/*.jpg', 'PIE/33/*.jpg', \\\n",
    "               'PIE/39/*.jpg', 'PIE/40/*.jpg', 'PIE/44/*.jpg', \\\n",
    "               'PIE/45/*.jpg', 'PIE/46/*.jpg', 'PIE/48/*.jpg', \\\n",
    "               'PIE/52/*.jpg', 'PIE/57/*.jpg', 'PIE/58/*.jpg', \\\n",
    "               'PIE/59/*.jpg', 'PIE/67/*.jpg']\n",
    "image_list = []\n",
    "image_own = []\n",
    "train_list = []\n",
    "train_own = []\n",
    "test_list = []\n",
    "test_own = []\n",
    "image_label = []\n",
    "own_label = [20] * 10\n",
    "\n",
    "for i in range (0, 20):\n",
    "    for filename in glob.glob(img_dir_list[i]):\n",
    "        im = Image.open(filename)\n",
    "        arr = np.array(im).flatten()\n",
    "        image_list.append(arr)\n",
    "        image_label.append(i)\n",
    "for filename in glob.glob('own_image/*.jpg'):\n",
    "    im = Image.open(filename)\n",
    "    arr = np.array(im).flatten()\n",
    "    image_own.append(arr)\n",
    "    \n",
    "image_list = np.asarray(image_list)\n",
    "image_own = np.asarray(image_own)\n",
    "image_label = np.asarray(image_label)\n",
    "own_label = np.asarray(own_label)\n",
    "\n",
    "train_list, test_list, train_label, test_label = train_test_split(image_list, image_label, test_size = 0.3)\n",
    "train_list = np.asarray(train_list)\n",
    "test_list = np.asarray(test_list)\n",
    "train_label = np.asarray(train_label)\n",
    "test_label = np.asarray(test_label)\n",
    "\n",
    "train_own, test_own, train_own_label, test_own_label = train_test_split(image_own, own_label, test_size = 0.3)\n",
    "train_own = np.asarray(train_own)\n",
    "test_own = np.asarray(test_own)\n",
    "train_own_label = np.asarray(train_own_label)\n",
    "test_own_label = np.asarray(test_own_label)\n",
    "\n",
    "random_indices = np.arange(0, train_list.shape[0])\n",
    "np.random.shuffle(random_indices)\n",
    "train_sample = train_list[random_indices[:500]]\n",
    "train_sample_label = train_label[random_indices[:500]]\n",
    "# print(train_sample)\n",
    "train_sample = np.concatenate((train_sample, train_own))\n",
    "train_sample_label = np.concatenate((train_sample_label, train_own_label))\n",
    "test_list = np.concatenate((test_list, test_own))\n",
    "test_label = np.concatenate((test_label, test_own_label))\n",
    "\n",
    "train_sample = np.asarray(train_sample)\n",
    "test_list = np.asarray(test_list)\n",
    "\n",
    "train_sample = train_sample.reshape(train_sample.shape[0], 32, 32, 1)\n",
    "test_list = test_list.reshape(test_list.shape[0], 32, 32, 1)\n",
    "train_list = train_list.reshape(train_list.shape[0], 32, 32, 1)"
   ]
  },
  {
   "cell_type": "code",
   "execution_count": 3,
   "metadata": {},
   "outputs": [
    {
     "name": "stdout",
     "output_type": "stream",
     "text": [
      "(32, 32, 1)\n"
     ]
    }
   ],
   "source": [
    "print(train_sample[0].shape)"
   ]
  },
  {
   "cell_type": "code",
   "execution_count": 4,
   "metadata": {},
   "outputs": [],
   "source": [
    "test_label = to_categorical(test_label, num_classes = 21)\n",
    "train_sample_label = to_categorical(train_sample_label, num_classes = 21)\n",
    "train_label = to_categorical(train_label, num_classes = 21)"
   ]
  },
  {
   "cell_type": "code",
   "execution_count": 5,
   "metadata": {},
   "outputs": [
    {
     "name": "stdout",
     "output_type": "stream",
     "text": [
      "Model: \"sequential_1\"\n",
      "_________________________________________________________________\n",
      "Layer (type)                 Output Shape              Param #   \n",
      "=================================================================\n",
      "conv2d_1 (Conv2D)            (None, 32, 32, 20)        520       \n",
      "_________________________________________________________________\n",
      "max_pooling2d_1 (MaxPooling2 (None, 16, 16, 20)        0         \n",
      "_________________________________________________________________\n",
      "conv2d_2 (Conv2D)            (None, 16, 16, 50)        25050     \n",
      "_________________________________________________________________\n",
      "max_pooling2d_2 (MaxPooling2 (None, 8, 8, 50)          0         \n",
      "_________________________________________________________________\n",
      "flatten_1 (Flatten)          (None, 3200)              0         \n",
      "_________________________________________________________________\n",
      "dense_1 (Dense)              (None, 500)               1600500   \n",
      "_________________________________________________________________\n",
      "activation_1 (Activation)    (None, 500)               0         \n",
      "_________________________________________________________________\n",
      "dense_2 (Dense)              (None, 21)                10521     \n",
      "_________________________________________________________________\n",
      "activation_2 (Activation)    (None, 21)                0         \n",
      "=================================================================\n",
      "Total params: 1,636,591\n",
      "Trainable params: 1,636,591\n",
      "Non-trainable params: 0\n",
      "_________________________________________________________________\n",
      "None\n"
     ]
    }
   ],
   "source": [
    "model = Sequential()\n",
    "\n",
    "model.add(Conv2D(filters=20, kernel_size=5, strides=1, padding=\"same\", input_shape=(32, 32, 1)))\n",
    "model.add(MaxPool2D(pool_size=2, strides=2))\n",
    "\n",
    "model.add(Conv2D(filters=50, kernel_size=5, strides=1, padding='same'))\n",
    "model.add(MaxPool2D(pool_size=2, strides=2))\n",
    "\n",
    "model.add(Flatten())\n",
    "model.add(Dense(500))\n",
    "model.add(Activation('relu'))\n",
    "\n",
    "model.add(Dense(21))\n",
    "model.add(Activation('softmax'))\n",
    "adam = keras.optimizers.Adam(lr=1e-4)\n",
    "model.compile(optimizer=adam, loss='categorical_crossentropy', metrics=['accuracy'])\n",
    "\n",
    "print(model.summary())"
   ]
  },
  {
   "cell_type": "code",
   "execution_count": 6,
   "metadata": {},
   "outputs": [
    {
     "name": "stdout",
     "output_type": "stream",
     "text": [
      "Train on 507 samples, validate on 1023 samples\n",
      "Epoch 1/20\n",
      " - 2s - loss: 28.2817 - accuracy: 0.0651 - val_loss: 15.0547 - val_accuracy: 0.1046\n",
      "Epoch 2/20\n",
      " - 1s - loss: 9.0050 - accuracy: 0.2485 - val_loss: 6.6819 - val_accuracy: 0.2473\n",
      "Epoch 3/20\n",
      " - 1s - loss: 3.9105 - accuracy: 0.4162 - val_loss: 3.0404 - val_accuracy: 0.4819\n",
      "Epoch 4/20\n",
      " - 1s - loss: 1.4560 - accuracy: 0.6982 - val_loss: 2.0248 - val_accuracy: 0.5806\n",
      "Epoch 5/20\n",
      " - 1s - loss: 0.7392 - accuracy: 0.7909 - val_loss: 1.4958 - val_accuracy: 0.6696\n",
      "Epoch 6/20\n",
      " - 1s - loss: 0.3942 - accuracy: 0.8777 - val_loss: 1.2211 - val_accuracy: 0.7019\n",
      "Epoch 7/20\n",
      " - 1s - loss: 0.2145 - accuracy: 0.9408 - val_loss: 0.9993 - val_accuracy: 0.7586\n",
      "Epoch 8/20\n",
      " - 1s - loss: 0.1251 - accuracy: 0.9625 - val_loss: 1.0182 - val_accuracy: 0.7507\n",
      "Epoch 9/20\n",
      " - 1s - loss: 0.0733 - accuracy: 0.9941 - val_loss: 0.9460 - val_accuracy: 0.7781\n",
      "Epoch 10/20\n",
      " - 1s - loss: 0.0406 - accuracy: 1.0000 - val_loss: 0.8880 - val_accuracy: 0.7830\n",
      "Epoch 11/20\n",
      " - 1s - loss: 0.0257 - accuracy: 1.0000 - val_loss: 0.8534 - val_accuracy: 0.7957\n",
      "Epoch 12/20\n",
      " - 1s - loss: 0.0214 - accuracy: 1.0000 - val_loss: 0.8542 - val_accuracy: 0.7986\n",
      "Epoch 13/20\n",
      " - 1s - loss: 0.0172 - accuracy: 1.0000 - val_loss: 0.8473 - val_accuracy: 0.8016\n",
      "Epoch 14/20\n",
      " - 1s - loss: 0.0158 - accuracy: 1.0000 - val_loss: 0.8259 - val_accuracy: 0.8025\n",
      "Epoch 15/20\n",
      " - 1s - loss: 0.0140 - accuracy: 1.0000 - val_loss: 0.8352 - val_accuracy: 0.8035\n",
      "Epoch 16/20\n",
      " - 1s - loss: 0.0126 - accuracy: 1.0000 - val_loss: 0.8246 - val_accuracy: 0.8016\n",
      "Epoch 17/20\n",
      " - 1s - loss: 0.0113 - accuracy: 1.0000 - val_loss: 0.8251 - val_accuracy: 0.8065\n",
      "Epoch 18/20\n",
      " - 1s - loss: 0.0103 - accuracy: 1.0000 - val_loss: 0.8133 - val_accuracy: 0.8035\n",
      "Epoch 19/20\n",
      " - 2s - loss: 0.0096 - accuracy: 1.0000 - val_loss: 0.8121 - val_accuracy: 0.8045\n",
      "Epoch 20/20\n",
      " - 1s - loss: 0.0090 - accuracy: 1.0000 - val_loss: 0.8027 - val_accuracy: 0.8065\n"
     ]
    },
    {
     "data": {
      "text/plain": [
       "<keras.callbacks.callbacks.History at 0x1cfb46640b8>"
      ]
     },
     "execution_count": 6,
     "metadata": {},
     "output_type": "execute_result"
    }
   ],
   "source": [
    "model.fit(train_sample, train_sample_label, epochs=20, batch_size=32, validation_data=(test_list, test_label),\n",
    "              shuffle=True, verbose=2, )"
   ]
  },
  {
   "cell_type": "code",
   "execution_count": 7,
   "metadata": {},
   "outputs": [
    {
     "name": "stdout",
     "output_type": "stream",
     "text": [
      "100.0 0.008297613190020448\n",
      "80.64516186714172 0.8027314124219229\n",
      "85.46218276023865 0.7139176191902962\n"
     ]
    }
   ],
   "source": [
    "loss, accuracy = model.evaluate(train_sample, train_sample_label, verbose = 0)\n",
    "print(accuracy * 100, loss)\n",
    "loss,  accuracy = model.evaluate(test_list, test_label, verbose = 0)\n",
    "print(accuracy* 100, loss)\n",
    "loss,  accuracy = model.evaluate(train_list, train_label, verbose = 0)\n",
    "print(accuracy* 100, loss)"
   ]
  }
 ],
 "metadata": {
  "kernelspec": {
   "display_name": "Python 3",
   "language": "python",
   "name": "python3"
  },
  "language_info": {
   "codemirror_mode": {
    "name": "ipython",
    "version": 3
   },
   "file_extension": ".py",
   "mimetype": "text/x-python",
   "name": "python",
   "nbconvert_exporter": "python",
   "pygments_lexer": "ipython3",
   "version": "3.7.3"
  }
 },
 "nbformat": 4,
 "nbformat_minor": 2
}
