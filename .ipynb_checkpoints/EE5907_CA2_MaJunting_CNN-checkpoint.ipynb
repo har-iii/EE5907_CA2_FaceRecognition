{
 "cells": [
  {
   "cell_type": "code",
   "execution_count": 18,
   "metadata": {},
   "outputs": [],
   "source": [
    "from PIL import Image\n",
    "import glob\n",
    "import numpy as np\n",
    "from sklearn.model_selection import train_test_split\n",
    "import keras\n",
    "from keras.utils import to_categorical\n",
    "from keras.models import Sequential\n",
    "from keras.layers import Conv2D, MaxPool2D, Dense, Activation, Flatten"
   ]
  },
  {
   "cell_type": "code",
   "execution_count": 52,
   "metadata": {},
   "outputs": [],
   "source": [
    "img_dir_list = ['PIE/PIE/1/*.jpg', 'PIE/PIE/2/*.jpg', 'PIE/PIE/3/*.jpg', \\\n",
    "               'PIE/PIE/4/*.jpg', 'PIE/PIE/5/*.jpg', 'PIE/PIE/6/*.jpg', \\\n",
    "               'PIE/PIE/7/*.jpg', 'PIE/PIE/8/*.jpg', 'PIE/PIE/9/*.jpg', \\\n",
    "               'PIE/PIE/10/*.jpg', 'PIE/PIE/11/*.jpg', 'PIE/PIE/12/*.jpg', \\\n",
    "               'PIE/PIE/13/*.jpg', 'PIE/PIE/14/*.jpg', 'PIE/PIE/15/*.jpg', \\\n",
    "               'PIE/PIE/16/*.jpg', 'PIE/PIE/17/*.jpg', 'PIE/PIE/18/*.jpg', \\\n",
    "               'PIE/PIE/19/*.jpg', 'PIE/PIE/20/*.jpg']\n",
    "image_list = []\n",
    "image_own = []\n",
    "train_list = []\n",
    "train_own = []\n",
    "test_list = []\n",
    "test_own = []\n",
    "image_label = []\n",
    "own_label = [20] * 10\n",
    "\n",
    "for i in range (0, 20):\n",
    "    for filename in glob.glob(img_dir_list[i]):\n",
    "        im = Image.open(filename)\n",
    "        arr = np.array(im).flatten()\n",
    "        image_list.append(arr)\n",
    "        image_label.append(i)\n",
    "for filename in glob.glob('own_image/*.jpg'):\n",
    "    im = Image.open(filename)\n",
    "    arr = np.array(im).flatten()\n",
    "    image_own.append(arr)\n",
    "    \n",
    "image_list = np.asarray(image_list)\n",
    "image_own = np.asarray(image_own)\n",
    "image_label = np.asarray(image_label)\n",
    "own_label = np.asarray(own_label)\n",
    "\n",
    "train_list, test_list, train_label, test_label = train_test_split(image_list, image_label, test_size = 0.3)\n",
    "train_list = np.asarray(train_list)\n",
    "test_list = np.asarray(test_list)\n",
    "train_label = np.asarray(train_label)\n",
    "test_label = np.asarray(test_label)\n",
    "\n",
    "train_own, test_own, train_own_label, test_own_label = train_test_split(image_own, own_label, test_size = 0.3)\n",
    "train_own = np.asarray(train_own)\n",
    "test_own = np.asarray(test_own)\n",
    "train_own_label = np.asarray(train_own_label)\n",
    "test_own_label = np.asarray(test_own_label)\n",
    "\n",
    "random_indices = np.arange(0, train_list.shape[0])\n",
    "np.random.shuffle(random_indices)\n",
    "train_sample = train_list[random_indices[:500]]\n",
    "train_sample_label = train_label[random_indices[:500]]\n",
    "# print(train_sample)\n",
    "train_sample = np.concatenate((train_sample, train_own))\n",
    "train_sample_label = np.concatenate((train_sample_label, train_own_label))\n",
    "test_list = np.concatenate((test_list, test_own))\n",
    "test_label = np.concatenate((test_label, test_own_label))\n",
    "\n",
    "train_sample = np.asarray(train_sample)\n",
    "test_list = np.asarray(test_list)\n",
    "\n",
    "# train_sample = train_sample.astype('int')\n",
    "# test_list = test_list.astype('int')\n",
    "train_sample = train_sample.reshape(train_sample.shape[0], 32, 32, 1)\n",
    "test_list = test_list.reshape(test_list.shape[0], 32, 32, 1)\n",
    "train_list = train_list.reshape(train_list.shape[0], 32, 32, 1)\n",
    "# print(train_sample)\n",
    "# print(train_own)"
   ]
  },
  {
   "cell_type": "code",
   "execution_count": 43,
   "metadata": {},
   "outputs": [
    {
     "name": "stdout",
     "output_type": "stream",
     "text": [
      "(1024,)\n"
     ]
    }
   ],
   "source": [
    "print(train_sample[0].shape)"
   ]
  },
  {
   "cell_type": "code",
   "execution_count": 53,
   "metadata": {},
   "outputs": [],
   "source": [
    "test_label = to_categorical(test_label, num_classes = 21)\n",
    "train_sample_label = to_categorical(train_sample_label, num_classes = 21)\n",
    "train_label = to_categorical(train_label, num_classes = 21)"
   ]
  },
  {
   "cell_type": "code",
   "execution_count": 47,
   "metadata": {},
   "outputs": [
    {
     "name": "stdout",
     "output_type": "stream",
     "text": [
      "Model: \"sequential_7\"\n",
      "_________________________________________________________________\n",
      "Layer (type)                 Output Shape              Param #   \n",
      "=================================================================\n",
      "conv2d_10 (Conv2D)           (None, 32, 32, 20)        520       \n",
      "_________________________________________________________________\n",
      "max_pooling2d_7 (MaxPooling2 (None, 16, 16, 20)        0         \n",
      "_________________________________________________________________\n",
      "conv2d_11 (Conv2D)           (None, 16, 16, 50)        25050     \n",
      "_________________________________________________________________\n",
      "max_pooling2d_8 (MaxPooling2 (None, 8, 8, 50)          0         \n",
      "_________________________________________________________________\n",
      "flatten_4 (Flatten)          (None, 3200)              0         \n",
      "_________________________________________________________________\n",
      "dense_7 (Dense)              (None, 500)               1600500   \n",
      "_________________________________________________________________\n",
      "activation_7 (Activation)    (None, 500)               0         \n",
      "_________________________________________________________________\n",
      "dense_8 (Dense)              (None, 21)                10521     \n",
      "_________________________________________________________________\n",
      "activation_8 (Activation)    (None, 21)                0         \n",
      "=================================================================\n",
      "Total params: 1,636,591\n",
      "Trainable params: 1,636,591\n",
      "Non-trainable params: 0\n",
      "_________________________________________________________________\n",
      "None\n"
     ]
    }
   ],
   "source": [
    "model = Sequential()\n",
    "\n",
    "model.add(Conv2D(filters=20, kernel_size=5, strides=1, padding=\"same\", input_shape=(32, 32, 1)))\n",
    "model.add(MaxPool2D(pool_size=2, strides=2))\n",
    "\n",
    "model.add(Conv2D(filters=50, kernel_size=5, strides=1, padding='same'))\n",
    "model.add(MaxPool2D(pool_size=2, strides=2))\n",
    "\n",
    "model.add(Flatten())\n",
    "model.add(Dense(500))\n",
    "model.add(Activation('relu'))\n",
    "\n",
    "model.add(Dense(21))\n",
    "model.add(Activation('softmax'))\n",
    "adam = keras.optimizers.Adam(lr=1e-4)\n",
    "model.compile(optimizer=adam, loss='categorical_crossentropy', metrics=['accuracy'])\n",
    "\n",
    "print(model.summary())"
   ]
  },
  {
   "cell_type": "code",
   "execution_count": 50,
   "metadata": {},
   "outputs": [
    {
     "name": "stdout",
     "output_type": "stream",
     "text": [
      "Train on 507 samples, validate on 1023 samples\n",
      "Epoch 1/20\n",
      " - 1s - loss: 22.3582 - accuracy: 0.1045 - val_loss: 11.3841 - val_accuracy: 0.1554\n",
      "Epoch 2/20\n",
      " - 1s - loss: 6.6868 - accuracy: 0.2564 - val_loss: 4.2734 - val_accuracy: 0.3363\n",
      "Epoch 3/20\n",
      " - 1s - loss: 2.7691 - accuracy: 0.4635 - val_loss: 3.4274 - val_accuracy: 0.4154\n",
      "Epoch 4/20\n",
      " - 1s - loss: 1.8245 - accuracy: 0.5996 - val_loss: 2.4003 - val_accuracy: 0.5347\n",
      "Epoch 5/20\n",
      " - 1s - loss: 0.8150 - accuracy: 0.7535 - val_loss: 1.6622 - val_accuracy: 0.6706\n",
      "Epoch 6/20\n",
      " - 1s - loss: 0.4860 - accuracy: 0.8600 - val_loss: 1.3522 - val_accuracy: 0.6989\n",
      "Epoch 7/20\n",
      " - 1s - loss: 0.3354 - accuracy: 0.9112 - val_loss: 1.1830 - val_accuracy: 0.7292\n",
      "Epoch 8/20\n",
      " - 1s - loss: 0.2132 - accuracy: 0.9389 - val_loss: 1.0364 - val_accuracy: 0.7605\n",
      "Epoch 9/20\n",
      " - 1s - loss: 0.1234 - accuracy: 0.9822 - val_loss: 0.9865 - val_accuracy: 0.7830\n",
      "Epoch 10/20\n",
      " - 1s - loss: 0.0811 - accuracy: 0.9882 - val_loss: 1.0264 - val_accuracy: 0.7742\n",
      "Epoch 11/20\n",
      " - 1s - loss: 0.0636 - accuracy: 0.9921 - val_loss: 0.9771 - val_accuracy: 0.7752\n",
      "Epoch 12/20\n",
      " - 1s - loss: 0.0512 - accuracy: 0.9961 - val_loss: 0.9233 - val_accuracy: 0.8065\n",
      "Epoch 13/20\n",
      " - 1s - loss: 0.0375 - accuracy: 1.0000 - val_loss: 0.8998 - val_accuracy: 0.8016\n",
      "Epoch 14/20\n",
      " - 1s - loss: 0.0286 - accuracy: 1.0000 - val_loss: 0.8694 - val_accuracy: 0.8123\n",
      "Epoch 15/20\n",
      " - 1s - loss: 0.0230 - accuracy: 1.0000 - val_loss: 0.8466 - val_accuracy: 0.8133\n",
      "Epoch 16/20\n",
      " - 1s - loss: 0.0179 - accuracy: 1.0000 - val_loss: 0.8359 - val_accuracy: 0.8201\n",
      "Epoch 17/20\n",
      " - 1s - loss: 0.0156 - accuracy: 1.0000 - val_loss: 0.8312 - val_accuracy: 0.8172\n",
      "Epoch 18/20\n",
      " - 1s - loss: 0.0138 - accuracy: 1.0000 - val_loss: 0.8323 - val_accuracy: 0.8231\n",
      "Epoch 19/20\n",
      " - 1s - loss: 0.0129 - accuracy: 1.0000 - val_loss: 0.8186 - val_accuracy: 0.8201\n",
      "Epoch 20/20\n",
      " - 1s - loss: 0.0117 - accuracy: 1.0000 - val_loss: 0.8258 - val_accuracy: 0.8221\n"
     ]
    },
    {
     "data": {
      "text/plain": [
       "<keras.callbacks.callbacks.History at 0x29435add688>"
      ]
     },
     "execution_count": 50,
     "metadata": {},
     "output_type": "execute_result"
    }
   ],
   "source": [
    "model.fit(train_sample, train_sample_label, epochs=20, batch_size=32, validation_data=(test_list, test_label),\n",
    "              shuffle=True, verbose=2, )"
   ]
  },
  {
   "cell_type": "code",
   "execution_count": 55,
   "metadata": {},
   "outputs": [
    {
     "name": "stdout",
     "output_type": "stream",
     "text": [
      "85.60158014297485 0.6850768022048168\n",
      "85.23949384689331 0.6508973632098876\n",
      "85.21008491516113 0.696808374829653\n"
     ]
    }
   ],
   "source": [
    "loss, accuracy = model.evaluate(train_sample, train_sample_label, verbose = 0)\n",
    "print(accuracy * 100, loss)\n",
    "loss,  accuracy = model.evaluate(test_list, test_label, verbose = 0)\n",
    "print(accuracy* 100, loss)\n",
    "loss,  accuracy = model.evaluate(train_list, train_label, verbose = 0)\n",
    "print(accuracy* 100, loss)"
   ]
  }
 ],
 "metadata": {
  "kernelspec": {
   "display_name": "Python 3",
   "language": "python",
   "name": "python3"
  },
  "language_info": {
   "codemirror_mode": {
    "name": "ipython",
    "version": 3
   },
   "file_extension": ".py",
   "mimetype": "text/x-python",
   "name": "python",
   "nbconvert_exporter": "python",
   "pygments_lexer": "ipython3",
   "version": "3.7.4"
  }
 },
 "nbformat": 4,
 "nbformat_minor": 2
}
