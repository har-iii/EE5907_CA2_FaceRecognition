{
 "cells": [
  {
   "cell_type": "code",
   "execution_count": 1,
   "metadata": {},
   "outputs": [],
   "source": [
    "from PIL import Image\n",
    "import glob\n",
    "import numpy as np\n",
    "from sklearn.model_selection import train_test_split\n",
    "import matplotlib.pyplot as plt\n",
    "from mpl_toolkits.mplot3d import Axes3D\n",
    "import scipy.spatial.distance as distance"
   ]
  },
  {
   "cell_type": "code",
   "execution_count": 6,
   "metadata": {},
   "outputs": [
    {
     "name": "stdout",
     "output_type": "stream",
     "text": [
      "[[ 15  18  23 ...  79  79  86]\n",
      " [ 24  39  75 ... 200 173 153]\n",
      " [ 34  13  50 ...  11   2  19]\n",
      " ...\n",
      " [ 90  40  32 ...  40  39  43]\n",
      " [ 13  58  89 ...  23  22  21]\n",
      " [ 12  36  47 ...  11   8   7]]\n",
      "[[ 15  18  23 ...  79  79  86]\n",
      " [ 24  39  75 ... 200 173 153]\n",
      " [ 34  13  50 ...  11   2  19]\n",
      " ...\n",
      " [175 175 173 ... 102  88  88]\n",
      " [212 212 213 ... 206 208 208]\n",
      " [191 192 193 ... 178 189 192]]\n",
      "[[231 230 230 ... 203 203 203]\n",
      " [221 221 221 ... 188 203 210]\n",
      " [191 193 194 ... 169 163 183]\n",
      " ...\n",
      " [175 175 173 ... 102  88  88]\n",
      " [212 212 213 ... 206 208 208]\n",
      " [191 192 193 ... 178 189 192]]\n"
     ]
    }
   ],
   "source": [
    "img_dir_list = ['PIE/PIE/1/*.jpg', 'PIE/PIE/2/*.jpg', 'PIE/PIE/3/*.jpg', \\\n",
    "               'PIE/PIE/4/*.jpg', 'PIE/PIE/5/*.jpg', 'PIE/PIE/6/*.jpg', \\\n",
    "               'PIE/PIE/7/*.jpg', 'PIE/PIE/8/*.jpg', 'PIE/PIE/9/*.jpg', \\\n",
    "               'PIE/PIE/10/*.jpg', 'PIE/PIE/11/*.jpg', 'PIE/PIE/12/*.jpg', \\\n",
    "               'PIE/PIE/13/*.jpg', 'PIE/PIE/14/*.jpg', 'PIE/PIE/15/*.jpg', \\\n",
    "               'PIE/PIE/16/*.jpg', 'PIE/PIE/17/*.jpg', 'PIE/PIE/18/*.jpg', \\\n",
    "               'PIE/PIE/19/*.jpg', 'PIE/PIE/20/*.jpg']\n",
    "image_list = []\n",
    "image_own = []\n",
    "train_list = []\n",
    "train_own = []\n",
    "test_list = []\n",
    "test_own = []\n",
    "image_label = []\n",
    "own_label = [20] * 10\n",
    "\n",
    "for i in range (0, 20):\n",
    "    for filename in glob.glob(img_dir_list[i]):\n",
    "        im = Image.open(filename)\n",
    "        arr = np.array(im).flatten()\n",
    "        image_list.append(arr)\n",
    "        image_label.append(i)\n",
    "for filename in glob.glob('own_image/*.jpg'):\n",
    "    im = Image.open(filename)\n",
    "    arr = np.array(im).flatten()\n",
    "    image_own.append(arr)\n",
    "    \n",
    "image_list = np.asarray(image_list)\n",
    "image_own = np.asarray(image_own)\n",
    "image_label = np.asarray(image_label)\n",
    "own_label = np.asarray(own_label)\n",
    "\n",
    "train_list, test_list, train_label, test_label = train_test_split(image_list, image_label, test_size = 0.3)\n",
    "train_list = np.asarray(train_list)\n",
    "test_list = np.asarray(test_list)\n",
    "train_label = np.asarray(train_label)\n",
    "test_label = np.asarray(test_label)\n",
    "\n",
    "train_own, test_own, train_own_label, test_own_label = train_test_split(image_own, own_label, test_size = 0.3)\n",
    "train_own = np.asarray(train_own)\n",
    "test_own = np.asarray(test_own)\n",
    "train_own_label = np.asarray(train_own_label)\n",
    "test_own_label = np.asarray(test_own_label)\n",
    "\n",
    "random_indices = np.arange(0, train_list.shape[0])\n",
    "np.random.shuffle(random_indices)\n",
    "train_sample = train_list[random_indices[:500]]\n",
    "train_sample_label = train_label[random_indices[:500]]\n",
    "# print(train_sample)\n",
    "train_sample = np.concatenate((train_sample, train_own))\n",
    "train_sample_label = np.concatenate((train_sample_label, train_own_label))\n",
    "# print(train_sample)\n",
    "# print(train_own)"
   ]
  },
  {
   "cell_type": "code",
   "execution_count": null,
   "metadata": {},
   "outputs": [],
   "source": []
  }
 ],
 "metadata": {
  "kernelspec": {
   "display_name": "Python 3",
   "language": "python",
   "name": "python3"
  },
  "language_info": {
   "codemirror_mode": {
    "name": "ipython",
    "version": 3
   },
   "file_extension": ".py",
   "mimetype": "text/x-python",
   "name": "python",
   "nbconvert_exporter": "python",
   "pygments_lexer": "ipython3",
   "version": "3.7.3"
  }
 },
 "nbformat": 4,
 "nbformat_minor": 2
}
