{
 "cells": [
  {
   "cell_type": "code",
   "execution_count": 67,
   "metadata": {},
   "outputs": [],
   "source": [
    "from PIL import Image\n",
    "import glob\n",
    "import numpy as np\n",
    "from sklearn.model_selection import train_test_split\n",
    "import matplotlib.pyplot as plt\n",
    "from mpl_toolkits.mplot3d import Axes3D\n",
    "import scipy.spatial.distance as distance\n",
    "from sklearn.neighbors import KNeighborsClassifier"
   ]
  },
  {
   "cell_type": "code",
   "execution_count": 2,
   "metadata": {},
   "outputs": [],
   "source": [
    "img_dir_list = ['PIE/PIE/1/*.jpg', 'PIE/PIE/2/*.jpg', 'PIE/PIE/3/*.jpg', \\\n",
    "               'PIE/PIE/4/*.jpg', 'PIE/PIE/5/*.jpg', 'PIE/PIE/6/*.jpg', \\\n",
    "               'PIE/PIE/7/*.jpg', 'PIE/PIE/8/*.jpg', 'PIE/PIE/9/*.jpg', \\\n",
    "               'PIE/PIE/10/*.jpg', 'PIE/PIE/11/*.jpg', 'PIE/PIE/12/*.jpg', \\\n",
    "               'PIE/PIE/13/*.jpg', 'PIE/PIE/14/*.jpg', 'PIE/PIE/15/*.jpg', \\\n",
    "               'PIE/PIE/16/*.jpg', 'PIE/PIE/17/*.jpg', 'PIE/PIE/18/*.jpg', \\\n",
    "               'PIE/PIE/19/*.jpg', 'PIE/PIE/20/*.jpg']\n",
    "image_list = []\n",
    "image_own = []\n",
    "train_list = []\n",
    "train_own = []\n",
    "test_list = []\n",
    "test_own = []\n",
    "image_label = []\n",
    "own_label = [20] * 10\n",
    "\n",
    "for i in range (0, 20):\n",
    "    for filename in glob.glob(img_dir_list[i]):\n",
    "        im = Image.open(filename)\n",
    "        arr = np.array(im).flatten()\n",
    "        image_list.append(arr)\n",
    "        image_label.append(i)\n",
    "for filename in glob.glob('own_image/*.jpg'):\n",
    "    im = Image.open(filename)\n",
    "    arr = np.array(im).flatten()\n",
    "    image_own.append(arr)\n",
    "    \n",
    "image_list = np.asarray(image_list)\n",
    "image_own = np.asarray(image_own)\n",
    "image_label = np.asarray(image_label)\n",
    "own_label = np.asarray(own_label)\n",
    "\n",
    "train_list, test_list, train_label, test_label = train_test_split(image_list, image_label, test_size = 0.3)\n",
    "train_list = np.asarray(train_list)\n",
    "test_list = np.asarray(test_list)\n",
    "train_label = np.asarray(train_label)\n",
    "test_label = np.asarray(test_label)\n",
    "\n",
    "train_own, test_own, train_own_label, test_own_label = train_test_split(image_own, own_label, test_size = 0.3)\n",
    "train_own = np.asarray(train_own)\n",
    "test_own = np.asarray(test_own)\n",
    "train_own_label = np.asarray(train_own_label)\n",
    "test_own_label = np.asarray(test_own_label)\n",
    "\n",
    "random_indices = np.arange(0, train_list.shape[0])\n",
    "np.random.shuffle(random_indices)\n",
    "train_sample = train_list[random_indices[:500]]\n",
    "train_sample_label = train_label[random_indices[:500]]\n",
    "# print(train_sample)\n",
    "train_sample = np.concatenate((train_sample, train_own))\n",
    "train_sample_label = np.concatenate((train_sample_label, train_own_label))\n",
    "# print(train_sample)\n",
    "# print(train_own)"
   ]
  },
  {
   "cell_type": "code",
   "execution_count": 8,
   "metadata": {},
   "outputs": [],
   "source": [
    "train_mean = np.mean(train_sample, axis = 0)\n",
    "test_mean = np.mean(test_list, axis = 0)\n",
    "test_mean_own = np.mean(test_own, axis = 0)"
   ]
  },
  {
   "cell_type": "code",
   "execution_count": 14,
   "metadata": {},
   "outputs": [
    {
     "data": {
      "text/plain": [
       "(507, 1024)"
      ]
     },
     "execution_count": 14,
     "metadata": {},
     "output_type": "execute_result"
    }
   ],
   "source": [
    "train_sample.shape"
   ]
  },
  {
   "cell_type": "code",
   "execution_count": 35,
   "metadata": {},
   "outputs": [],
   "source": [
    "train_sample_matrix = []\n",
    "# temp_matrix = []\n",
    "# for i in range(0, 21):\n",
    "#     train_sample_matrix.append(temp_matrix)\n",
    "    \n",
    "# for i in range(len(train_sample)):\n",
    "#     for j in range(0, 21):\n",
    "#         if(train_sample_label[i] == j):\n",
    "#             train_sample_matrix[j].append(train_sample[i])\n",
    "for i in range(0, 21):\n",
    "    temp_matrix = []\n",
    "    for j in range(len(train_sample)):\n",
    "        if(train_sample_label[j] == i):\n",
    "            temp_matrix.append(train_sample[j])\n",
    "    temp_matrix = np.asarray(temp_matrix)\n",
    "    train_sample_matrix.append(temp_matrix)\n",
    "train_sample_matrix = np.asarray(train_sample_matrix)"
   ]
  },
  {
   "cell_type": "code",
   "execution_count": 48,
   "metadata": {},
   "outputs": [
    {
     "name": "stdout",
     "output_type": "stream",
     "text": [
      "(1024, 1024)\n",
      "----------------------\n",
      "(1024, 1024)\n"
     ]
    }
   ],
   "source": [
    "scatter_within_train = 0\n",
    "scatter_between_train = 0\n",
    "\n",
    "for i in range(21):\n",
    "    train_mean_i = np.mean(train_sample_matrix[i], axis = 0)\n",
    "    image_diff = train_sample_matrix[i] - train_mean_i\n",
    "    covariance_i = (1 / train_sample_matrix[i].shape[0]) * np.matmul(image_diff.T, image_diff)\n",
    "    \n",
    "    p_train_i = train_sample_matrix[i].shape[0] / 507\n",
    "    scatter_within_i_train = p_train_i * covariance_i\n",
    "    scatter_within_train = scatter_within_train + scatter_within_i_train\n",
    "    \n",
    "    mean_temp = train_mean_i - train_mean\n",
    "    mean_temp = mean_temp.reshape(1024, 1)\n",
    "    scatter_between_i_train = np.matmul(mean_temp, mean_temp.T) * p_train_i\n",
    "    scatter_between_train = scatter_between_train + scatter_between_i_train\n",
    "print(scatter_within_train.shape)\n",
    "print(\"----------------------\")\n",
    "print(scatter_between_train.shape)"
   ]
  },
  {
   "cell_type": "code",
   "execution_count": 59,
   "metadata": {},
   "outputs": [],
   "source": [
    "aaaa = np.matmul(np.linalg.pinv(scatter_within_train), scatter_between_train)\n",
    "\n",
    "eigenvalue_train, eigenvector_train = np.linalg.eig(np.mat(aaaa))\n",
    "eigenvalue_train = np.real(eigenvalue_train)\n",
    "eigenvector_train = np.real(eigenvector_train)"
   ]
  },
  {
   "cell_type": "code",
   "execution_count": 63,
   "metadata": {},
   "outputs": [
    {
     "name": "stdout",
     "output_type": "stream",
     "text": [
      "[ 1.82268356e+02  6.54345302e+01  4.29177706e+01 ...  1.79672851e-14\n",
      " -1.07645169e-14 -1.07645169e-14]\n"
     ]
    }
   ],
   "source": [
    "eigenvalue_train_sort = np.argsort(eigenvalue_train)[::-1]\n",
    "print(eigenvalue_train)"
   ]
  },
  {
   "cell_type": "code",
   "execution_count": 71,
   "metadata": {},
   "outputs": [
    {
     "name": "stdout",
     "output_type": "stream",
     "text": [
      "0.42857142857142855\n"
     ]
    }
   ],
   "source": [
    "dim_2_eigenvalue_index = eigenvalue_train_sort[0:2]\n",
    "dim_2_eigenvector_train = eigenvector_train[:, dim_2_eigenvalue_index]\n",
    "\n",
    "dim_2_test = np.matmul(test_list, dim_2_eigenvector_train)\n",
    "dim_2_train = np.matmul(train_sample, dim_2_eigenvector_train)\n",
    "\n",
    "model = KNeighborsClassifier()\n",
    "model.fit(dim_2_train, train_sample_label)\n",
    "\n",
    "print(model.score(dim_2_test[500:507], test_label[500:507]))"
   ]
  },
  {
   "cell_type": "code",
   "execution_count": 70,
   "metadata": {},
   "outputs": [
    {
     "name": "stdout",
     "output_type": "stream",
     "text": [
      "(507, 2)\n"
     ]
    }
   ],
   "source": []
  },
  {
   "cell_type": "code",
   "execution_count": 72,
   "metadata": {},
   "outputs": [
    {
     "name": "stdout",
     "output_type": "stream",
     "text": [
      "0.8571428571428571\n"
     ]
    }
   ],
   "source": [
    "dim_9_eigenvalue_index = eigenvalue_train_sort[0:9]\n",
    "dim_9_eigenvector_train = eigenvector_train[:, dim_9_eigenvalue_index]\n",
    "\n",
    "dim_9_test = np.matmul(test_list, dim_9_eigenvector_train)\n",
    "dim_9_train = np.matmul(train_sample, dim_9_eigenvector_train)\n",
    "\n",
    "model = KNeighborsClassifier()\n",
    "model.fit(dim_9_train, train_sample_label)\n",
    "\n",
    "print(model.score(dim_9_test[500:507], test_label[500:507]))"
   ]
  }
 ],
 "metadata": {
  "kernelspec": {
   "display_name": "Python 3",
   "language": "python",
   "name": "python3"
  },
  "language_info": {
   "codemirror_mode": {
    "name": "ipython",
    "version": 3
   },
   "file_extension": ".py",
   "mimetype": "text/x-python",
   "name": "python",
   "nbconvert_exporter": "python",
   "pygments_lexer": "ipython3",
   "version": "3.7.4"
  }
 },
 "nbformat": 4,
 "nbformat_minor": 2
}
