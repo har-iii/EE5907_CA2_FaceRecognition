{
 "cells": [
  {
   "cell_type": "markdown",
   "metadata": {},
   "source": [
    "## PCA based data distribution visualisation"
   ]
  },
  {
   "cell_type": "code",
   "execution_count": 90,
   "metadata": {},
   "outputs": [],
   "source": [
    "from PIL import Image\n",
    "import glob\n",
    "import numpy as np\n",
    "from sklearn.model_selection import train_test_split\n",
    "import matplotlib.pyplot as plt"
   ]
  },
  {
   "cell_type": "code",
   "execution_count": 54,
   "metadata": {
    "scrolled": true
   },
   "outputs": [],
   "source": [
    "img_dir_list = ['PIE/PIE/1/*.jpg', 'PIE/PIE/2/*.jpg', 'PIE/PIE/3/*.jpg', \\\n",
    "               'PIE/PIE/4/*.jpg', 'PIE/PIE/5/*.jpg', 'PIE/PIE/6/*.jpg', \\\n",
    "               'PIE/PIE/7/*.jpg', 'PIE/PIE/8/*.jpg', 'PIE/PIE/9/*.jpg', \\\n",
    "               'PIE/PIE/10/*.jpg', 'PIE/PIE/11/*.jpg', 'PIE/PIE/12/*.jpg', \\\n",
    "               'PIE/PIE/13/*.jpg', 'PIE/PIE/14/*.jpg', 'PIE/PIE/15/*.jpg', \\\n",
    "               'PIE/PIE/16/*.jpg', 'PIE/PIE/17/*.jpg', 'PIE/PIE/18/*.jpg', \\\n",
    "               'PIE/PIE/19/*.jpg', 'PIE/PIE/20/*.jpg', 'PIE/PIE/21/*.jpg']\n",
    "img_list = []\n",
    "train_list = []\n",
    "test_list = []\n",
    "\n",
    "for i in range (0, 21):\n",
    "    temp_list = []\n",
    "    for filename in glob.glob(img_dir_list[i]):\n",
    "        im = Image.open(filename)\n",
    "        arr = numpy.array(im).flatten()\n",
    "        temp_list.append(arr)\n",
    "    img_list.append(temp_list)\n",
    "    \n",
    "image_list = np.asarray(img_list)\n",
    "\n",
    "for i in range (0, 21):\n",
    "    temp_train = []\n",
    "    temp_test = []\n",
    "    temp_train, temp_test = train_test_split(img_list[i], test_size = 0.3)\n",
    "    train_list.append(temp_train)\n",
    "    test_list.append(temp_test)\n",
    "train_list = np.asarray(train_list)\n",
    "test_list = np.asarray(test_list)"
   ]
  },
  {
   "cell_type": "code",
   "execution_count": 57,
   "metadata": {},
   "outputs": [
    {
     "name": "stdout",
     "output_type": "stream",
     "text": [
      "(21, 119, 1024)\n"
     ]
    }
   ],
   "source": []
  },
  {
   "cell_type": "code",
   "execution_count": 60,
   "metadata": {},
   "outputs": [
    {
     "name": "stdout",
     "output_type": "stream",
     "text": [
      "[[47.37815126 48.47058824 51.43697479 ... 16.06722689 20.94117647\n",
      "  26.        ]\n",
      " [53.35294118 58.10084034 61.40336134 ... 66.39495798 69.11764706\n",
      "  73.21848739]\n",
      " [58.45378151 61.56302521 67.22689076 ... 48.45378151 46.17647059\n",
      "  43.73109244]\n",
      " ...\n",
      " [52.66386555 67.42016807 83.23529412 ... 67.67226891 60.67226891\n",
      "  64.74789916]\n",
      " [13.59663866 13.33613445 13.8907563  ... 18.54621849 21.21008403\n",
      "  25.94957983]\n",
      " [20.55462185 20.57983193 27.57142857 ... 46.87394958 62.78991597\n",
      "  61.34453782]]\n"
     ]
    }
   ],
   "source": [
    "train_image_mean = []\n",
    "for i in range (0, 21):\n",
    "    train_image_mean.append((np.mean(train_list[i], axis = 0)).astype('float'))\n",
    "train_image_mean = np.asarray(train_image_mean)\n",
    "print(train_image_mean)"
   ]
  },
  {
   "cell_type": "code",
   "execution_count": 61,
   "metadata": {},
   "outputs": [
    {
     "name": "stdout",
     "output_type": "stream",
     "text": [
      "(21, 1024)\n"
     ]
    }
   ],
   "source": [
    "print(train_image_mean.shape)"
   ]
  },
  {
   "cell_type": "code",
   "execution_count": 92,
   "metadata": {},
   "outputs": [],
   "source": [
    "def pca (image_list):\n",
    "    image_mean = train_image_mean\n",
    "    image_diff = []\n",
    "    eigenval_list = []\n",
    "    eigenvec_list = []\n",
    "    for i in range (0, 21):\n",
    "        temp_diff = []\n",
    "        for j in range (0, len(image_list[i])):\n",
    "            temp_diff.append(image_list[i][j] - image_mean[i])\n",
    "        temp_diff = np.asarray(temp_diff)\n",
    "        image_diff.append(temp_diff)\n",
    "        covariance = np.cov(temp_diff.T)\n",
    "#         print(covariance.shape)\n",
    "        eigenvalue, eigenvector = np.linalg.eig(covariance)\n",
    "        idx = eigenvalue.argsort()[::-1]\n",
    "        eigenvalue = eigenvalue[idx]\n",
    "        eigenvector = eigenvector[:, idx]\n",
    "        eigenval_list.append(np.real(np.asarray(eigenvalue)))\n",
    "        eigenvec_list.append(np.real(np.asarray(eigenvector)))\n",
    "    eigenval_list = np.asarray(eigenval_list)\n",
    "    eigenvec_list = np.asarray(eigenvec_list)\n",
    "    return eigenval_list, eigenvec_list"
   ]
  },
  {
   "cell_type": "code",
   "execution_count": 93,
   "metadata": {},
   "outputs": [],
   "source": [
    "eigenval_list, eigenvec_list = pca(test_list)"
   ]
  },
  {
   "cell_type": "code",
   "execution_count": 96,
   "metadata": {},
   "outputs": [
    {
     "name": "stdout",
     "output_type": "stream",
     "text": [
      "[[[ 0.01235087 -0.01852615  0.01742879 ... -0.00744246 -0.00744246\n",
      "   -0.0002293 ]\n",
      "  [ 0.02141583 -0.02331298 -0.00399008 ... -0.00185821 -0.00185821\n",
      "    0.03155595]\n",
      "  [ 0.02154036 -0.02653979 -0.01842044 ... -0.01111798 -0.01111798\n",
      "    0.03242395]\n",
      "  ...\n",
      "  [-0.00799869  0.00571582  0.01621313 ... -0.00699179 -0.00699179\n",
      "    0.00067072]\n",
      "  [-0.00234983  0.00418269  0.01304177 ...  0.00121253  0.00121253\n",
      "   -0.01479051]\n",
      "  [ 0.00347089  0.01181356  0.04698474 ... -0.00129169 -0.00129169\n",
      "   -0.00078862]]\n",
      "\n",
      " [[ 0.00075199  0.0359261   0.01509255 ... -0.00703973  0.00196496\n",
      "    0.00196496]\n",
      "  [ 0.00459414  0.04247118  0.00580952 ...  0.00395705 -0.00562813\n",
      "   -0.00562813]\n",
      "  [ 0.00929284  0.04803418  0.00442725 ... -0.00967    -0.00926302\n",
      "   -0.00926302]\n",
      "  ...\n",
      "  [-0.04540805  0.07810613 -0.10937515 ... -0.0179424   0.04705286\n",
      "    0.04705286]\n",
      "  [-0.04636683  0.07469684 -0.11193054 ... -0.01905674  0.08857448\n",
      "    0.08857448]\n",
      "  [-0.05473318  0.06111426 -0.11275245 ... -0.01165558  0.05406161\n",
      "    0.05406161]]\n",
      "\n",
      " [[ 0.00721119  0.04913501  0.01767245 ... -0.00780416  0.01305472\n",
      "    0.01305472]\n",
      "  [ 0.01039566  0.05111805  0.01408896 ...  0.00300356 -0.0071028\n",
      "   -0.0071028 ]\n",
      "  [ 0.01373757  0.0576163   0.01173782 ...  0.00434465 -0.01014493\n",
      "   -0.01014493]\n",
      "  ...\n",
      "  [ 0.01227492 -0.02760471  0.08675254 ... -0.0050837   0.00901269\n",
      "    0.00901269]\n",
      "  [ 0.00986853 -0.02582701  0.09453976 ... -0.00464406  0.00418049\n",
      "    0.00418049]\n",
      "  [ 0.01283887 -0.01044795  0.09198738 ... -0.00747582  0.00500029\n",
      "    0.00500029]]\n",
      "\n",
      " ...\n",
      "\n",
      " [[ 0.01077804 -0.03244708  0.05364828 ... -0.00215491  0.00589734\n",
      "   -0.00471248]\n",
      "  [ 0.01404377 -0.04149155  0.04295657 ... -0.00302292 -0.0032351\n",
      "    0.00226652]\n",
      "  [ 0.02200417 -0.04248153  0.00720206 ... -0.01309674  0.0345832\n",
      "   -0.0009728 ]\n",
      "  ...\n",
      "  [ 0.01090681  0.04943913 -0.09237623 ...  0.00645293 -0.02311686\n",
      "   -0.03509704]\n",
      "  [ 0.0153413   0.03276023 -0.06238121 ...  0.00460653  0.01302815\n",
      "   -0.01022031]\n",
      "  [ 0.01654297  0.01733288 -0.0527373  ...  0.01601968 -0.01973301\n",
      "    0.00541767]]\n",
      "\n",
      " [[ 0.00150807  0.00258635  0.00016065 ...  0.00455425  0.00455425\n",
      "    0.00365664]\n",
      "  [ 0.00078513  0.00351083  0.00135273 ... -0.00301952 -0.00301952\n",
      "   -0.00532339]\n",
      "  [ 0.00331204  0.00912306 -0.00757221 ... -0.00064032 -0.00064032\n",
      "   -0.0004474 ]\n",
      "  ...\n",
      "  [ 0.00271061 -0.00320923  0.00451538 ...  0.00288144  0.00288144\n",
      "   -0.00268411]\n",
      "  [ 0.00354456 -0.00753685  0.00621066 ...  0.00798927  0.00798927\n",
      "    0.00935487]\n",
      "  [ 0.00577867 -0.01426696  0.01620458 ...  0.00071457  0.00071457\n",
      "    0.00425559]]\n",
      "\n",
      " [[ 0.00122569  0.00053576 -0.00524413 ... -0.00069949  0.00587135\n",
      "   -0.00754319]\n",
      "  [-0.00490328  0.00901334  0.01166469 ...  0.00182162  0.00644444\n",
      "   -0.00292388]\n",
      "  [-0.00570134  0.01622582  0.02266495 ...  0.00630008 -0.01240976\n",
      "    0.01053778]\n",
      "  ...\n",
      "  [-0.01553666 -0.02208172 -0.05256167 ... -0.02805064  0.00239687\n",
      "   -0.03139205]\n",
      "  [-0.03453112 -0.03292972 -0.10484696 ...  0.01375887 -0.00109613\n",
      "    0.02809573]\n",
      "  [-0.03033694 -0.03524163 -0.11151816 ... -0.00834699  0.0610992\n",
      "   -0.00783064]]]\n"
     ]
    }
   ],
   "source": [
    "print(eigenvec_list)"
   ]
  },
  {
   "cell_type": "code",
   "execution_count": 94,
   "metadata": {},
   "outputs": [
    {
     "name": "stdout",
     "output_type": "stream",
     "text": [
      "include 7 features for 95% threshold\n"
     ]
    },
    {
     "data": {
      "image/png": "[encoded data removed]",
      "text/plain": [
       "<Figure size 432x288 with 1 Axes>"
      ]
     },
     "metadata": {
      "needs_background": "light"
     },
     "output_type": "display_data"
    }
   ],
   "source": [
    "feature_fraction = np.cumsum(eigenval_list[0])/np.sum(eigenval_list[0])\n",
    "threshold = np.argmin(np.abs(feature_fraction - 0.95))\n",
    "print('include {} features for 95% threshold'.format(threshold))\n",
    "plt.figure()\n",
    "plt.plot(feature_fraction)\n",
    "plt.axvline(threshold)\n",
    "plt.show()"
   ]
  },
  {
   "cell_type": "code",
   "execution_count": null,
   "metadata": {},
   "outputs": [],
   "source": []
  }
 ],
 "metadata": {
  "kernelspec": {
   "display_name": "Python 3",
   "language": "python",
   "name": "python3"
  },
  "language_info": {
   "codemirror_mode": {
    "name": "ipython",
    "version": 3
   },
   "file_extension": ".py",
   "mimetype": "text/x-python",
   "name": "python",
   "nbconvert_exporter": "python",
   "pygments_lexer": "ipython3",
   "version": "3.7.4"
  }
 },
 "nbformat": 4,
 "nbformat_minor": 2
}
